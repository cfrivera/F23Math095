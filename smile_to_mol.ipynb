{
 "cells": [
  {
   "cell_type": "code",
   "execution_count": 2,
   "id": "caec113c-c94c-4bc0-a3b5-5954628eda17",
   "metadata": {},
   "outputs": [],
   "source": [
    "import networkx as nx\n",
    "from rdkit import Chem\n",
    "import pandas\n",
    "import numpy as np"
   ]
  },
  {
   "cell_type": "code",
   "execution_count": 3,
   "id": "9e5c061f-ce87-4ea6-aaca-1f58520d307f",
   "metadata": {
    "jupyter": {
     "source_hidden": true
    },
    "tags": []
   },
   "outputs": [],
   "source": [
    "\n",
    "def smile_to_graph2(smile, normalize= True): #normally False\n",
    "\n",
    " \n",
    "    ## use RDKit library to read in the smile string\n",
    "    ## using this library allows us to visualize the mol. w/ respect to the chemical properties of it\n",
    "    mol = Chem.MolFromSmiles(smile)\n",
    "\n",
    "    ## number of atoms in the \n",
    "    c_size = mol.GetNumAtoms()\n",
    "\n",
    "   \n",
    "    # empty feature vector for each atom\n",
    "    features = []\n",
    "\n",
    "    # create a graph (from NetworkX library)\n",
    "    g = nx.Graph()\n",
    "\n",
    " \n",
    "    \n",
    "    for atom in mol.GetAtoms():\n",
    "\n",
    "        ### add the feature vector at the atom ####\n",
    "\n",
    "        feature = atom_features(atom)\n",
    "\n",
    "        if normalize:      \n",
    "\n",
    "            features.append(feature/sum(feature))\n",
    "\n",
    "        else:\n",
    "\n",
    "            ## append features to the array\n",
    "            features.append(feature) \n",
    "\n",
    "        \n",
    "        # GetIDX: Returns the atom’s index (ordering in the molecule)\n",
    "        atom_idx = atom.GetIdx()              \n",
    "\n",
    "        g.add_node(atom_idx)                  \n",
    "\n",
    "    \n",
    "\n",
    "    # edges = []\n",
    "\n",
    "    # g = nx.Graph()\n",
    "\n",
    "    \n",
    "    ## GetBonds ==> Returns a read-only sequence of the atom’s bonds (tuple)\n",
    "    \n",
    "    ## add edges for the nodes ##\n",
    "    for bond in mol.GetBonds():\n",
    "\n",
    "        #edges.append([bond.GetBeginAtomIdx(), bond.GetEndAtomIdx()])\n",
    "\n",
    "        # GetBeginAtomIdx  ==> index of bond's first atom\n",
    "        g.add_edge(bond.GetBeginAtomIdx(), bond.GetEndAtomIdx())\n",
    "\n",
    "   \n",
    "\n",
    "    nodes_del = []\n",
    "\n",
    " \n",
    "\n",
    "    for node in g:\n",
    "\n",
    "        # degree = number of edges adjacent to the node\n",
    "        # so if the node/atom doesn't have any bonds, we delete it ? why?\n",
    "        if g.degree(node) == 0:\n",
    "\n",
    "           nodes_del.append(node)\n",
    "\n",
    " \n",
    "\n",
    "   \n",
    "\n",
    "           \n",
    "\n",
    "    for indx in nodes_del:    \n",
    "\n",
    "       g.remove_node(indx)    \n",
    "\n",
    " \n",
    "    # filter out the atoms we don't want to include\n",
    "    F = [element for index, element in enumerate(features) if index not in nodes_del]           \n",
    "\n",
    "    \n",
    "\n",
    "    # g = nx.Graph(edges).to_directed()\n",
    "\n",
    "    # g = graph\n",
    "    # F = filtered feature vector\n",
    "    # c_size = num of atoms\n",
    "    # mol = molecule we're working with\n",
    "    # return g, F, c_size, mol\n",
    "    return F\n",
    " "
   ]
  },
  {
   "cell_type": "code",
   "execution_count": 4,
   "id": "6168060d-3c1b-4db6-b6fe-d0a9fa27860b",
   "metadata": {
    "jupyter": {
     "source_hidden": true
    },
    "tags": []
   },
   "outputs": [],
   "source": [
    "def atom_features(atom):\n",
    "\n",
    "    return np.array([atom.GetDegree(),\n",
    "\n",
    "                     atom.GetTotalNumHs(),\n",
    "\n",
    "                     atom.GetImplicitValence(),\n",
    "\n",
    "                     int(atom.GetIsAromatic()),\n",
    "\n",
    "                     #atom.GetAtomicNum(),\n",
    "\n",
    "                     #atom.GetTotalValence(),\n",
    "\n",
    "                     #atom.GetTotalDegree(),\n",
    "\n",
    "                     #atom.GetFormalCharge(),\n",
    "\n",
    "                     #atom.GetPropsAsDict().get(\"_GasteigerCharge\", 0),\n",
    "\n",
    "                     #atom.GetPropsAsDict().get(\"_TriposAtomType\", 0),\n",
    "\n",
    "                     #atom.GetNumRadicalElectrons(),\n",
    "\n",
    "                     #int(atom.IsInRing())\n",
    "\n",
    "                     ])\n"
   ]
  },
  {
   "cell_type": "code",
   "execution_count": 5,
   "id": "698f809a-e937-4759-8b9b-23fbe65e53ad",
   "metadata": {
    "tags": []
   },
   "outputs": [
    {
     "name": "stderr",
     "output_type": "stream",
     "text": [
      "Found local copy...\n",
      "Loading...\n",
      "Done!\n"
     ]
    },
    {
     "data": {
      "text/html": [
       "<div>\n",
       "<style scoped>\n",
       "    .dataframe tbody tr th:only-of-type {\n",
       "        vertical-align: middle;\n",
       "    }\n",
       "\n",
       "    .dataframe tbody tr th {\n",
       "        vertical-align: top;\n",
       "    }\n",
       "\n",
       "    .dataframe thead th {\n",
       "        text-align: right;\n",
       "    }\n",
       "</style>\n",
       "<table border=\"1\" class=\"dataframe\">\n",
       "  <thead>\n",
       "    <tr style=\"text-align: right;\">\n",
       "      <th></th>\n",
       "      <th>Drug_ID</th>\n",
       "      <th>Drug</th>\n",
       "      <th>Y</th>\n",
       "    </tr>\n",
       "  </thead>\n",
       "  <tbody>\n",
       "    <tr>\n",
       "      <th>0</th>\n",
       "      <td>Acetanilide</td>\n",
       "      <td>CC(=O)Nc1ccccc1</td>\n",
       "      <td>1</td>\n",
       "    </tr>\n",
       "    <tr>\n",
       "      <th>1</th>\n",
       "      <td>Acetazolamide.mol</td>\n",
       "      <td>CC(=O)Nc1nnc(S(N)(=O)=O)s1</td>\n",
       "      <td>1</td>\n",
       "    </tr>\n",
       "    <tr>\n",
       "      <th>2</th>\n",
       "      <td>Alfacalcidol</td>\n",
       "      <td>C=C1/C(=C\\C=C2/CCC[C@]3(C)[C@@H]2CC[C@H]3[C@@H...</td>\n",
       "      <td>1</td>\n",
       "    </tr>\n",
       "    <tr>\n",
       "      <th>3</th>\n",
       "      <td>Aminopyrine</td>\n",
       "      <td>Cc1c(N(C)C)c(=N)n(-c2ccccc2)n1C</td>\n",
       "      <td>1</td>\n",
       "    </tr>\n",
       "    <tr>\n",
       "      <th>4</th>\n",
       "      <td>Amosulalol.mol</td>\n",
       "      <td>COc1ccccc1OCCNC[C@@H](O)c1ccc(C)cc1S(N)(=O)=O</td>\n",
       "      <td>1</td>\n",
       "    </tr>\n",
       "    <tr>\n",
       "      <th>...</th>\n",
       "      <td>...</td>\n",
       "      <td>...</td>\n",
       "      <td>...</td>\n",
       "    </tr>\n",
       "    <tr>\n",
       "      <th>573</th>\n",
       "      <td>Tiludronic_acid</td>\n",
       "      <td>O=P(O)(O)C(Cc1ccc(Cl)cc1)P(=O)(O)O</td>\n",
       "      <td>0</td>\n",
       "    </tr>\n",
       "    <tr>\n",
       "      <th>574</th>\n",
       "      <td>Zanamivir.mol</td>\n",
       "      <td>CC(=O)N[C@H]1[C@@H]([C@@H](O)[C@H](O)CO)OC(C(=...</td>\n",
       "      <td>0</td>\n",
       "    </tr>\n",
       "    <tr>\n",
       "      <th>575</th>\n",
       "      <td>Kanamycin.mol</td>\n",
       "      <td>CC(=O)NC[C@@H]1O[C@@H](O[C@H]2[C@@H](N)C[C@H](...</td>\n",
       "      <td>0</td>\n",
       "    </tr>\n",
       "    <tr>\n",
       "      <th>576</th>\n",
       "      <td>Amikacin.mol</td>\n",
       "      <td>NCC[C@@H](O)C(=O)N[C@@H]1C[C@H](N)[C@H](O[C@@H...</td>\n",
       "      <td>0</td>\n",
       "    </tr>\n",
       "    <tr>\n",
       "      <th>577</th>\n",
       "      <td>Moxalactam.mol</td>\n",
       "      <td>CO[C@@]1(NC(=O)[C@@H](C(=O)O)c2ccc(O)cc2)C(=O)...</td>\n",
       "      <td>0</td>\n",
       "    </tr>\n",
       "  </tbody>\n",
       "</table>\n",
       "<p>578 rows × 3 columns</p>\n",
       "</div>"
      ],
      "text/plain": [
       "               Drug_ID                                               Drug  Y\n",
       "0          Acetanilide                                    CC(=O)Nc1ccccc1  1\n",
       "1    Acetazolamide.mol                         CC(=O)Nc1nnc(S(N)(=O)=O)s1  1\n",
       "2         Alfacalcidol  C=C1/C(=C\\C=C2/CCC[C@]3(C)[C@@H]2CC[C@H]3[C@@H...  1\n",
       "3          Aminopyrine                    Cc1c(N(C)C)c(=N)n(-c2ccccc2)n1C  1\n",
       "4       Amosulalol.mol      COc1ccccc1OCCNC[C@@H](O)c1ccc(C)cc1S(N)(=O)=O  1\n",
       "..                 ...                                                ... ..\n",
       "573    Tiludronic_acid                 O=P(O)(O)C(Cc1ccc(Cl)cc1)P(=O)(O)O  0\n",
       "574      Zanamivir.mol  CC(=O)N[C@H]1[C@@H]([C@@H](O)[C@H](O)CO)OC(C(=...  0\n",
       "575      Kanamycin.mol  CC(=O)NC[C@@H]1O[C@@H](O[C@H]2[C@@H](N)C[C@H](...  0\n",
       "576       Amikacin.mol  NCC[C@@H](O)C(=O)N[C@@H]1C[C@H](N)[C@H](O[C@@H...  0\n",
       "577     Moxalactam.mol  CO[C@@]1(NC(=O)[C@@H](C(=O)O)c2ccc(O)cc2)C(=O)...  0\n",
       "\n",
       "[578 rows x 3 columns]"
      ]
     },
     "execution_count": 5,
     "metadata": {},
     "output_type": "execute_result"
    }
   ],
   "source": [
    "from tdc.single_pred import ADME\n",
    "data = ADME(name = 'hia_hou')\n",
    "data.get_data()"
   ]
  },
  {
   "cell_type": "code",
   "execution_count": 44,
   "id": "47b9d7f0-f69c-4b1f-91da-7b96ff37c021",
   "metadata": {},
   "outputs": [],
   "source": [
    "df = data.get_data()\n",
    "num_rows = df.shape[0]"
   ]
  },
  {
   "cell_type": "code",
   "execution_count": 45,
   "id": "98673f69-10bf-4f32-9c41-aefdf8e4ba31",
   "metadata": {},
   "outputs": [
    {
     "data": {
      "text/plain": [
       "578"
      ]
     },
     "execution_count": 45,
     "metadata": {},
     "output_type": "execute_result"
    }
   ],
   "source": [
    "num_rows"
   ]
  },
  {
   "cell_type": "code",
   "execution_count": 58,
   "id": "f4333668-51ff-49f0-87e4-89f4097e9d5f",
   "metadata": {},
   "outputs": [
    {
     "data": {
      "text/plain": [
       "0.21698316461863257"
      ]
     },
     "execution_count": 58,
     "metadata": {},
     "output_type": "execute_result"
    }
   ],
   "source": [
    "row_index_1 = 1  # The row index you want to access\n",
    "row_index_2 = 2\n",
    "column_name = 'Drug'  # The column name you want to access\n",
    "\n",
    "def calculate_emd_distance(df, row_index_1, row_index_2, column_name):\n",
    "    # Select drug molecules from the df\n",
    "    drug1 = df.loc[row_index_1, column_name]\n",
    "    drug2 = df.loc[row_index_2, column_name]\n",
    "\n",
    "    # SMILE string to graph\n",
    "    x = smile_to_graph2(drug1)\n",
    "    y = smile_to_graph2(drug2)\n",
    "\n",
    "    x_array = np.array(x)\n",
    "    y_array = np.array(y)\n",
    "\n",
    "    # Loss matrix\n",
    "    M = ot.dist(x_array, y_array, metric=\"sqeuclidean\")\n",
    "\n",
    "    # Number of points in each distribution\n",
    "    n_x = x_array.shape[0]\n",
    "    n_y = y_array.shape[0]\n",
    "\n",
    "    # Create uniform weight vectors\n",
    "    weights_x = np.ones(n_x) / n_x\n",
    "    weights_y = np.ones(n_y) / n_y\n",
    "\n",
    "    # Calculate the EMD using the squared Euclidean distance matrix\n",
    "    emd_distance = ot.emd2(weights_x, weights_y, M)\n",
    "\n",
    "    return emd_distance\n",
    "\n",
    "# Sanity check: Let's calculate EMD for two drugs\n",
    "calculate_emd_distance(df, row_index_1, row_index_2, column_name)"
   ]
  },
  {
   "cell_type": "code",
   "execution_count": 75,
   "id": "fb5cc43e-84a9-4173-9b6d-10dca1206f67",
   "metadata": {},
   "outputs": [
    {
     "name": "stdout",
     "output_type": "stream",
     "text": [
      "3\n"
     ]
    }
   ],
   "source": [
    "num_rows = 3\n",
    "print(num_rows)"
   ]
  },
  {
   "cell_type": "code",
   "execution_count": 88,
   "id": "2be3fad4-e437-4e08-adcb-2ab27750c026",
   "metadata": {
    "tags": []
   },
   "outputs": [],
   "source": [
    "# Pariwise comparision of all the drugs in the dataframe\n",
    "\n",
    "# Initialize an empty matrix to store EMD distances\n",
    "\n",
    "# sample of first 4 drugs\n",
    "num_rows = 4 # change 4 --> df.shape[0]\n",
    "emd_matrix = np.zeros((num_rows, num_rows))\n",
    "\n",
    "# Calculate EMD distances and fill the matrix\n",
    "for i in range(3): #change 3 --> num_rows\n",
    "    for j in range(i + 1, num_rows):\n",
    "        emd_distance = calculate_emd_distance(df, i, j, column_name)\n",
    "        emd_matrix[i, j] = emd_distance\n",
    "        emd_matrix[j, i] = emd_distance  # Symmetric matrix\n",
    "\n",
    "# Now, emd_matrix contains the EMD distances between all pairs of rows\n",
    "\n",
    "# Create a similarity matrix (inverse of EMD distances)\n",
    "similarity_matrix = 1 / (1 + emd_matrix)"
   ]
  },
  {
   "cell_type": "code",
   "execution_count": 89,
   "id": "88f24ad3-9bc3-4c4d-aef6-f3f69fb76fa1",
   "metadata": {},
   "outputs": [
    {
     "name": "stdout",
     "output_type": "stream",
     "text": [
      "Similarity Matrix:\n",
      "[[1.         0.88742435 0.93507143 0.93395946]\n",
      " [0.88742435 1.         0.82170405 0.8784956 ]\n",
      " [0.93507143 0.82170405 1.         0.92512607]\n",
      " [0.93395946 0.8784956  0.92512607 1.        ]]\n"
     ]
    }
   ],
   "source": [
    "# # Display the similarity matrix (test: first 4 drugs)\n",
    "print(\"Similarity Matrix:\")\n",
    "print(similarity_matrix)"
   ]
  },
  {
   "cell_type": "code",
   "execution_count": 87,
   "id": "cbc716fd-651b-414c-a5d4-5914e4f45f67",
   "metadata": {},
   "outputs": [
    {
     "name": "stdout",
     "output_type": "stream",
     "text": [
      "(4, 4)\n"
     ]
    }
   ],
   "source": [
    "print(similarity_matrix.shape)"
   ]
  },
  {
   "cell_type": "code",
   "execution_count": null,
   "id": "0111beff-d656-4ee6-9574-a155b9abaafb",
   "metadata": {},
   "outputs": [],
   "source": [
    "#to do: look into kernals, support vector regression, support vector machine, applications of \n",
    "# similarity matrix"
   ]
  }
 ],
 "metadata": {
  "kernelspec": {
   "display_name": "Python 3 (ipykernel)",
   "language": "python",
   "name": "python3"
  },
  "language_info": {
   "codemirror_mode": {
    "name": "ipython",
    "version": 3
   },
   "file_extension": ".py",
   "mimetype": "text/x-python",
   "name": "python",
   "nbconvert_exporter": "python",
   "pygments_lexer": "ipython3",
   "version": "3.9.12"
  }
 },
 "nbformat": 4,
 "nbformat_minor": 5
}
